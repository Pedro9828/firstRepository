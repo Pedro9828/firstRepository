{
 "cells": [
  {
   "cell_type": "markdown",
   "id": "c8ee82d0-2eee-4edb-ab39-63f24146bec8",
   "metadata": {},
   "source": [
    "<h1><center>Data Science Tools and Ecosystem</center></h1>"
   ]
  },
  {
   "cell_type": "markdown",
   "id": "3b3bf834-1b2d-4376-ba9d-778809aa16c9",
   "metadata": {},
   "source": [
    "In this notebook, Data Science Tools and Ecosystem are summarized."
   ]
  },
  {
   "cell_type": "markdown",
   "id": "938a3266-1ace-4212-b00e-3b082de190bd",
   "metadata": {},
   "source": [
    "**Objectives**:\n",
    "\n",
    "- List popular languages for Data Science\n",
    "- List popular libraries used by Data Scientists\n",
    "- multiply and add integers"
   ]
  },
  {
   "cell_type": "markdown",
   "id": "f98ecb85-29ed-4fe4-a3d3-e20e5a2210ee",
   "metadata": {},
   "source": [
    "Some of the popular languages that Data Scientists use are:\n",
    "\n",
    "1. R\n",
    "2. Python\n",
    "3. Julia"
   ]
  },
  {
   "cell_type": "markdown",
   "id": "aeb32f32-a643-4c9a-b6f3-449ede7be0b9",
   "metadata": {},
   "source": [
    "Some of the commonly used libraries used by Data Scientists include:\n",
    "\n",
    "1. caret\n",
    "2. pytorch\n",
    "3. pandas"
   ]
  },
  {
   "cell_type": "markdown",
   "id": "317fd1c5-579c-49c5-8c8e-0c0a6bfd9dd1",
   "metadata": {},
   "source": [
    "| Data Science Tools | \n",
    "| -------------| \n",
    "| Jupyter Notebook | \n",
    "| RStudio | \n",
    "| VS Code (Visual Studio Code) | "
   ]
  },
  {
   "cell_type": "markdown",
   "id": "ff3c9fb8-a402-4490-88b2-5a7dc737547f",
   "metadata": {},
   "source": [
    "<h3>Below are a few examples of evaluating arithmetic expressions in Python</h3>"
   ]
  },
  {
   "cell_type": "code",
   "execution_count": 11,
   "id": "6d6399cb-79a0-44de-8944-f147ca09b0c6",
   "metadata": {},
   "outputs": [
    {
     "data": {
      "text/plain": [
       "17"
      ]
     },
     "execution_count": 11,
     "metadata": {},
     "output_type": "execute_result"
    }
   ],
   "source": [
    "# This a simple arithmetic expression to multiply then add integers\n",
    "(3*4)+5"
   ]
  },
  {
   "cell_type": "code",
   "execution_count": 13,
   "id": "5bde661e-997d-4818-a1c6-9c3636684438",
   "metadata": {},
   "outputs": [
    {
     "data": {
      "text/plain": [
       "3.3333333333333335"
      ]
     },
     "execution_count": 13,
     "metadata": {},
     "output_type": "execute_result"
    }
   ],
   "source": [
    "# This will convert 200 minutes to hours by diving by 60\n",
    "200/60"
   ]
  },
  {
   "cell_type": "markdown",
   "id": "5b363a4a-dc4e-4506-aee7-db7f9f85a29a",
   "metadata": {},
   "source": [
    "<h2>Author</h2>\n",
    "Matteo"
   ]
  }
 ],
 "metadata": {
  "kernelspec": {
   "display_name": "Python 3 (ipykernel)",
   "language": "python",
   "name": "python3"
  },
  "language_info": {
   "codemirror_mode": {
    "name": "ipython",
    "version": 3
   },
   "file_extension": ".py",
   "mimetype": "text/x-python",
   "name": "python",
   "nbconvert_exporter": "python",
   "pygments_lexer": "ipython3",
   "version": "3.12.7"
  },
  "panel-cell-order": [
   "a916ad1a-5325-4512-9f52-a60fc9d80ceb",
   "2f9160f7-168b-4529-af78-2bc8d77dde66"
  ]
 },
 "nbformat": 4,
 "nbformat_minor": 5
}
