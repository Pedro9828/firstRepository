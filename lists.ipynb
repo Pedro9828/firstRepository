{
 "cells": [
  {
   "cell_type": "code",
   "execution_count": 45,
   "id": "051084bd-3b54-48ad-b6d4-1029cc305763",
   "metadata": {},
   "outputs": [
    {
     "name": "stdin",
     "output_type": "stream",
     "text": [
      "Enter file: \n"
     ]
    }
   ],
   "source": [
    "name = input(\"Enter file:\")\n",
    "if len(name) < 1:\n",
    "    name = \"mbox-short.txt\"\n",
    "handle = open(name)\n",
    "\n",
    "count = {}\n",
    "\n",
    "for line in handle:\n",
    "    line = line.rstrip()\n",
    "    if not line.startswith('From '): \n",
    "        continue\n",
    "    complete_hour = line.split()[5]\n",
    "    hour = str(complete_hour.split(':')[0])\n",
    "    count[hour] = count.get(hour,0) + 1\n"
   ]
  },
  {
   "cell_type": "code",
   "execution_count": 67,
   "id": "e5954884-6543-4ece-9c97-f9eb56e8904d",
   "metadata": {},
   "outputs": [
    {
     "name": "stdout",
     "output_type": "stream",
     "text": [
      "04 3\n",
      "06 1\n",
      "07 1\n",
      "09 2\n",
      "10 3\n",
      "11 6\n",
      "14 1\n",
      "15 2\n",
      "16 4\n",
      "17 2\n",
      "18 1\n",
      "19 1\n"
     ]
    }
   ],
   "source": [
    "hist = sorted(count.items())\n",
    "for x in hist:\n",
    "    print(x[0],x[1])"
   ]
  }
 ],
 "metadata": {
  "kernelspec": {
   "display_name": "Python 3 (ipykernel)",
   "language": "python",
   "name": "python3"
  },
  "language_info": {
   "codemirror_mode": {
    "name": "ipython",
    "version": 3
   },
   "file_extension": ".py",
   "mimetype": "text/x-python",
   "name": "python",
   "nbconvert_exporter": "python",
   "pygments_lexer": "ipython3",
   "version": "3.12.7"
  },
  "panel-cell-order": [
   "a916ad1a-5325-4512-9f52-a60fc9d80ceb",
   "2f9160f7-168b-4529-af78-2bc8d77dde66"
  ]
 },
 "nbformat": 4,
 "nbformat_minor": 5
}
